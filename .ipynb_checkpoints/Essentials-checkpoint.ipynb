{
 "cells": [
  {
   "cell_type": "code",
   "execution_count": 1,
   "id": "c8d8deea",
   "metadata": {},
   "outputs": [],
   "source": [
    "boolean = True\n",
    "floating_point = 1.5\n",
    "complex_number = complex(1, 2)"
   ]
  },
  {
   "cell_type": "code",
   "execution_count": 2,
   "id": "b27e77f4",
   "metadata": {},
   "outputs": [
    {
     "data": {
      "text/plain": [
       "(1+2j)"
      ]
     },
     "execution_count": 2,
     "metadata": {},
     "output_type": "execute_result"
    }
   ],
   "source": [
    "complex_number"
   ]
  },
  {
   "cell_type": "code",
   "execution_count": 3,
   "id": "d4236138",
   "metadata": {},
   "outputs": [
    {
     "data": {
      "text/plain": [
       "tuple"
      ]
     },
     "execution_count": 3,
     "metadata": {},
     "output_type": "execute_result"
    }
   ],
   "source": [
    "is_tuple = (1,2,3)\n",
    "is_tuple\n",
    "type(is_tuple)"
   ]
  },
  {
   "cell_type": "code",
   "execution_count": 4,
   "id": "8528feae",
   "metadata": {},
   "outputs": [
    {
     "data": {
      "text/plain": [
       "(1, 2, 3)"
      ]
     },
     "execution_count": 4,
     "metadata": {},
     "output_type": "execute_result"
    }
   ],
   "source": [
    "is_tuple"
   ]
  },
  {
   "cell_type": "code",
   "execution_count": 5,
   "id": "0721113f",
   "metadata": {},
   "outputs": [],
   "source": [
    "is_list = [1,2,3]"
   ]
  },
  {
   "cell_type": "code",
   "execution_count": 6,
   "id": "cce81910",
   "metadata": {},
   "outputs": [
    {
     "data": {
      "text/plain": [
       "[1, 2, 3]"
      ]
     },
     "execution_count": 6,
     "metadata": {},
     "output_type": "execute_result"
    }
   ],
   "source": [
    "is_list"
   ]
  },
  {
   "cell_type": "code",
   "execution_count": 7,
   "id": "cface7cd",
   "metadata": {},
   "outputs": [
    {
     "data": {
      "text/plain": [
       "[1, 2]"
      ]
     },
     "execution_count": 7,
     "metadata": {},
     "output_type": "execute_result"
    }
   ],
   "source": [
    "is_list[:2]"
   ]
  },
  {
   "cell_type": "code",
   "execution_count": 8,
   "id": "faf8536b",
   "metadata": {},
   "outputs": [],
   "source": [
    "dictionary = {\"Nico\":\"34866262\", \"Emi\":\"31950316\"}"
   ]
  },
  {
   "cell_type": "code",
   "execution_count": 9,
   "id": "07e2cb36",
   "metadata": {},
   "outputs": [
    {
     "data": {
      "text/plain": [
       "{'Nico': '34866262', 'Emi': '31950316'}"
      ]
     },
     "execution_count": 9,
     "metadata": {},
     "output_type": "execute_result"
    }
   ],
   "source": [
    "dictionary"
   ]
  },
  {
   "cell_type": "code",
   "execution_count": 10,
   "id": "90f7284c",
   "metadata": {},
   "outputs": [
    {
     "data": {
      "text/plain": [
       "'34866262'"
      ]
     },
     "execution_count": 10,
     "metadata": {},
     "output_type": "execute_result"
    }
   ],
   "source": [
    "dictionary['Nico']"
   ]
  },
  {
   "cell_type": "code",
   "execution_count": 11,
   "id": "34702657",
   "metadata": {},
   "outputs": [],
   "source": [
    "pares = {x for x in range(10) if x%2==0}\n",
    "impares = {x for x in range(10) if x%2==1}"
   ]
  },
  {
   "cell_type": "code",
   "execution_count": 12,
   "id": "897d2124",
   "metadata": {},
   "outputs": [
    {
     "data": {
      "text/plain": [
       "{0, 2, 4, 6, 8}"
      ]
     },
     "execution_count": 12,
     "metadata": {},
     "output_type": "execute_result"
    }
   ],
   "source": [
    "pares"
   ]
  },
  {
   "cell_type": "code",
   "execution_count": 13,
   "id": "77b9d85e",
   "metadata": {},
   "outputs": [
    {
     "data": {
      "text/plain": [
       "{1, 3, 5, 7, 9}"
      ]
     },
     "execution_count": 13,
     "metadata": {},
     "output_type": "execute_result"
    }
   ],
   "source": [
    "impares"
   ]
  },
  {
   "cell_type": "code",
   "execution_count": 14,
   "id": "3f97a429",
   "metadata": {},
   "outputs": [
    {
     "data": {
      "text/plain": [
       "{0, 1, 2, 3, 4, 5, 6, 7, 8, 9}"
      ]
     },
     "execution_count": 14,
     "metadata": {},
     "output_type": "execute_result"
    }
   ],
   "source": [
    "pares.union(impares)"
   ]
  },
  {
   "cell_type": "code",
   "execution_count": 15,
   "id": "3628bc79",
   "metadata": {},
   "outputs": [
    {
     "data": {
      "text/plain": [
       "set()"
      ]
     },
     "execution_count": 15,
     "metadata": {},
     "output_type": "execute_result"
    }
   ],
   "source": [
    "pares.intersection(impares)"
   ]
  },
  {
   "cell_type": "code",
   "execution_count": 16,
   "id": "eacad3fd",
   "metadata": {},
   "outputs": [],
   "source": [
    "file = open('newfile.txt', 'w')\n",
    "file.write('Testing\\n')\n",
    "file.write('More testing')\n",
    "file.close()"
   ]
  },
  {
   "cell_type": "code",
   "execution_count": 17,
   "id": "74ca1e49",
   "metadata": {},
   "outputs": [
    {
     "data": {
      "text/plain": [
       "'Testing\\nMore testing'"
      ]
     },
     "execution_count": 17,
     "metadata": {},
     "output_type": "execute_result"
    }
   ],
   "source": [
    "read_file = open('newfile.txt', 'r')\n",
    "out = read_file.read()\n",
    "out"
   ]
  },
  {
   "cell_type": "code",
   "execution_count": 18,
   "id": "7ef08960",
   "metadata": {},
   "outputs": [
    {
     "name": "stdout",
     "output_type": "stream",
     "text": [
      "Testing\n",
      "More testing\n"
     ]
    }
   ],
   "source": [
    "print(out)"
   ]
  },
  {
   "cell_type": "code",
   "execution_count": 19,
   "id": "4db17e89",
   "metadata": {},
   "outputs": [],
   "source": [
    "read_file.close()"
   ]
  },
  {
   "cell_type": "code",
   "execution_count": 20,
   "id": "7f428393",
   "metadata": {},
   "outputs": [
    {
     "data": {
      "text/plain": [
       "'C:\\\\Users\\\\Nico\\\\Python\\\\learning-python'"
      ]
     },
     "execution_count": 20,
     "metadata": {},
     "output_type": "execute_result"
    }
   ],
   "source": [
    "%pwd"
   ]
  },
  {
   "cell_type": "code",
   "execution_count": 21,
   "id": "d2a723fb",
   "metadata": {},
   "outputs": [
    {
     "name": "stdout",
     "output_type": "stream",
     "text": [
      "Testing\n",
      "More testing\n"
     ]
    }
   ],
   "source": [
    "file = open('C://Users/Nico/Python/learning-python/newfile.txt', 'r')\n",
    "print(file.read())\n",
    "file.close()"
   ]
  },
  {
   "cell_type": "code",
   "execution_count": 22,
   "id": "328f3436",
   "metadata": {},
   "outputs": [
    {
     "name": "stdout",
     "output_type": "stream",
     "text": [
      "Overwriting ciudades.txt\n"
     ]
    }
   ],
   "source": [
    "%%file ciudades.txt\n",
    "buenos aires: 7406520\n",
    "cordoba: 3835293\n",
    "rosario: 2454645\n",
    "san miguel: 1694327\n",
    "mendoza: 1338482\n",
    "neuquen: 1141301\n",
    "mar del plata: 935639\n",
    "la plata: 899523\n",
    "resistencia: 847321\n",
    "rio gallegos: 739215"
   ]
  },
  {
   "cell_type": "code",
   "execution_count": 23,
   "id": "0b735420",
   "metadata": {},
   "outputs": [
    {
     "name": "stdout",
     "output_type": "stream",
     "text": [
      "Buenos Aires   7,406,520\n",
      "Cordoba        3,835,293\n",
      "Rosario        2,454,645\n",
      "San Miguel     1,694,327\n",
      "Mendoza        1,338,482\n",
      "Neuquen        1,141,301\n",
      "Mar Del Plata  935,639\n",
      "La Plata       899,523\n",
      "Resistencia    847,321\n",
      "Rio Gallegos   739,215\n"
     ]
    }
   ],
   "source": [
    "file = open('ciudades.txt', 'r')\n",
    "for line in file:\n",
    "    ciudad, habitantes = line.split(':')\n",
    "    ciudad = ciudad.title()\n",
    "    habitantes = f'{int(habitantes):,}'\n",
    "    print(ciudad.ljust(15) + habitantes)\n",
    "file.close()"
   ]
  },
  {
   "cell_type": "code",
   "execution_count": 24,
   "id": "74ed2537",
   "metadata": {},
   "outputs": [
    {
     "name": "stdout",
     "output_type": "stream",
     "text": [
      "Primero viene el par 0 y luego el impar 1\n",
      "Primero viene el par 2 y luego el impar 3\n",
      "Primero viene el par 4 y luego el impar 5\n",
      "Primero viene el par 6 y luego el impar 7\n",
      "Primero viene el par 8 y luego el impar 9\n"
     ]
    }
   ],
   "source": [
    "for par, impar in zip(pares, impares):\n",
    "    print(f'Primero viene el par {par} y luego el impar {impar}')"
   ]
  },
  {
   "cell_type": "code",
   "execution_count": 25,
   "id": "17667ffa",
   "metadata": {},
   "outputs": [
    {
     "data": {
      "text/plain": [
       "832040"
      ]
     },
     "execution_count": 25,
     "metadata": {},
     "output_type": "execute_result"
    }
   ],
   "source": [
    "calculated_fibonacci = []\n",
    "fibonacci = lambda n: n if n==1 or n==0 else fibonacci(n-1)+fibonacci(n-2)\n",
    "fibonacci(30)"
   ]
  },
  {
   "cell_type": "code",
   "execution_count": 26,
   "id": "98c9720f",
   "metadata": {},
   "outputs": [
    {
     "data": {
      "text/plain": [
       "2"
      ]
     },
     "execution_count": 26,
     "metadata": {},
     "output_type": "execute_result"
    }
   ],
   "source": [
    "test_list = [1,2]\n",
    "len(test_list)"
   ]
  },
  {
   "cell_type": "code",
   "execution_count": 27,
   "id": "dd06c17e",
   "metadata": {},
   "outputs": [
    {
     "data": {
      "text/plain": [
       "(4.0, 4.440892098500626e-14)"
      ]
     },
     "execution_count": 27,
     "metadata": {},
     "output_type": "execute_result"
    }
   ],
   "source": [
    "from scipy.integrate import quad\n",
    "quad(lambda x:x**3,0,2)"
   ]
  },
  {
   "cell_type": "code",
   "execution_count": 28,
   "id": "7ed90f29",
   "metadata": {},
   "outputs": [
    {
     "data": {
      "text/plain": [
       "(6.0, 6.661338147750939e-14)"
      ]
     },
     "execution_count": 28,
     "metadata": {},
     "output_type": "execute_result"
    }
   ],
   "source": [
    "quad(lambda x:2,0,3)"
   ]
  },
  {
   "cell_type": "code",
   "execution_count": 29,
   "id": "45ac6f28",
   "metadata": {},
   "outputs": [
    {
     "name": "stdout",
     "output_type": "stream",
     "text": [
      "The Zen of Python, by Tim Peters\n",
      "\n",
      "Beautiful is better than ugly.\n",
      "Explicit is better than implicit.\n",
      "Simple is better than complex.\n",
      "Complex is better than complicated.\n",
      "Flat is better than nested.\n",
      "Sparse is better than dense.\n",
      "Readability counts.\n",
      "Special cases aren't special enough to break the rules.\n",
      "Although practicality beats purity.\n",
      "Errors should never pass silently.\n",
      "Unless explicitly silenced.\n",
      "In the face of ambiguity, refuse the temptation to guess.\n",
      "There should be one-- and preferably only one --obvious way to do it.\n",
      "Although that way may not be obvious at first unless you're Dutch.\n",
      "Now is better than never.\n",
      "Although never is often better than *right* now.\n",
      "If the implementation is hard to explain, it's a bad idea.\n",
      "If the implementation is easy to explain, it may be a good idea.\n",
      "Namespaces are one honking great idea -- let's do more of those!\n"
     ]
    }
   ],
   "source": [
    "import this"
   ]
  },
  {
   "cell_type": "code",
   "execution_count": 30,
   "id": "aa18c542",
   "metadata": {},
   "outputs": [
    {
     "data": {
      "text/plain": [
       "22"
      ]
     },
     "execution_count": 30,
     "metadata": {},
     "output_type": "execute_result"
    }
   ],
   "source": [
    "def inner_product(x_values, y_values):\n",
    "    total = 0\n",
    "    for x, y in zip(x_values, y_values):\n",
    "        total = total + x*y\n",
    "    return total\n",
    "inner_product((2, 4), (5, 3))"
   ]
  },
  {
   "cell_type": "code",
   "execution_count": 31,
   "id": "95f5100a",
   "metadata": {},
   "outputs": [
    {
     "data": {
      "text/plain": [
       "22"
      ]
     },
     "execution_count": 31,
     "metadata": {},
     "output_type": "execute_result"
    }
   ],
   "source": [
    "x_values = (2,4)\n",
    "y_values = (5,3)\n",
    "inner = sum([x * y for x, y in zip(x_values, y_values)])\n",
    "inner"
   ]
  },
  {
   "cell_type": "code",
   "execution_count": 32,
   "id": "c8ebb0de",
   "metadata": {},
   "outputs": [
    {
     "data": {
      "text/plain": [
       "50"
      ]
     },
     "execution_count": 32,
     "metadata": {},
     "output_type": "execute_result"
    }
   ],
   "source": [
    "par_en_100 = sum([1 for x in range(100) if x%2==0 ])\n",
    "par_en_100"
   ]
  },
  {
   "cell_type": "code",
   "execution_count": 33,
   "id": "71812b31",
   "metadata": {},
   "outputs": [
    {
     "data": {
      "text/plain": [
       "2"
      ]
     },
     "execution_count": 33,
     "metadata": {},
     "output_type": "execute_result"
    }
   ],
   "source": [
    "pairs = ((2, 5), (4, 2), (9, 8), (12, 10))\n",
    "pares_en_pares = sum([1 for  pair in pairs if pair[0]%2==0 and pair[1]%2==0])\n",
    "pares_en_pares"
   ]
  },
  {
   "cell_type": "code",
   "execution_count": 34,
   "id": "836dd790",
   "metadata": {},
   "outputs": [
    {
     "data": {
      "text/plain": [
       "49"
      ]
     },
     "execution_count": 34,
     "metadata": {},
     "output_type": "execute_result"
    }
   ],
   "source": [
    "def p(x, coeff):\n",
    "    total = 0\n",
    "    for i, coef in enumerate(coeff):\n",
    "        total = total + coef * x**i\n",
    "    return total\n",
    "\n",
    "p(2, (1,2,3,4))"
   ]
  },
  {
   "cell_type": "code",
   "execution_count": 35,
   "id": "7934e9cb",
   "metadata": {},
   "outputs": [
    {
     "data": {
      "text/plain": [
       "4"
      ]
     },
     "execution_count": 35,
     "metadata": {},
     "output_type": "execute_result"
    }
   ],
   "source": [
    "count_capital = lambda text: sum(c==c.upper() and c.isalpha() for c in text)\n",
    "\n",
    "count_capital('Hi How ArE')"
   ]
  },
  {
   "cell_type": "code",
   "execution_count": 41,
   "id": "4fcde95a",
   "metadata": {},
   "outputs": [
    {
     "data": {
      "text/plain": [
       "True"
      ]
     },
     "execution_count": 41,
     "metadata": {},
     "output_type": "execute_result"
    }
   ],
   "source": [
    "def is_seq_in_seq(seq1, seq2):\n",
    "    for i in seq1:\n",
    "        if i not in seq2:\n",
    "            return False\n",
    "    return True\n",
    "\n",
    "is_seq_in_seq(\"hola\", \"alhho\")"
   ]
  },
  {
   "cell_type": "code",
   "execution_count": 3,
   "id": "7e4a5f4a",
   "metadata": {},
   "outputs": [
    {
     "data": {
      "text/plain": [
       "9.444444444444441"
      ]
     },
     "execution_count": 3,
     "metadata": {},
     "output_type": "execute_result"
    }
   ],
   "source": [
    "def linapprox(f, a, b, n, x):\n",
    "    dist_between_points = (b - a) / (n - 1)\n",
    "    left_point = a\n",
    "    right_point = a + dist_between_points\n",
    "    while x > right_point:\n",
    "        left_point = right_point\n",
    "        right_point = right_point + dist_between_points\n",
    "    return f(left_point) + (((f(right_point) - f(left_point)) / (b - a)) * (x - a))\n",
    "\n",
    "linapprox(lambda x: x**2, 1, 5, 4, 3)"
   ]
  },
  {
   "cell_type": "code",
   "execution_count": 5,
   "id": "364acbe8",
   "metadata": {},
   "outputs": [],
   "source": [
    "import numpy as np\n",
    "\n",
    "n = 100\n",
    "ϵ_values = [np.random.randn() for i in range(100)]"
   ]
  },
  {
   "cell_type": "code",
   "execution_count": null,
   "id": "c8ad5318",
   "metadata": {},
   "outputs": [],
   "source": []
  }
 ],
 "metadata": {
  "kernelspec": {
   "display_name": "Python 3",
   "language": "python",
   "name": "python3"
  },
  "language_info": {
   "codemirror_mode": {
    "name": "ipython",
    "version": 3
   },
   "file_extension": ".py",
   "mimetype": "text/x-python",
   "name": "python",
   "nbconvert_exporter": "python",
   "pygments_lexer": "ipython3",
   "version": "3.8.8"
  }
 },
 "nbformat": 4,
 "nbformat_minor": 5
}
