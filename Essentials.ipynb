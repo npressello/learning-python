{
 "cells": [
  {
   "cell_type": "code",
   "execution_count": 2,
   "id": "c8d8deea",
   "metadata": {},
   "outputs": [],
   "source": [
    "boolean = True\n",
    "floating_point = 1.5\n",
    "complex_number = complex(1, 2)"
   ]
  },
  {
   "cell_type": "code",
   "execution_count": 3,
   "id": "b27e77f4",
   "metadata": {},
   "outputs": [
    {
     "data": {
      "text/plain": [
       "(1+2j)"
      ]
     },
     "execution_count": 3,
     "metadata": {},
     "output_type": "execute_result"
    }
   ],
   "source": [
    "complex_number"
   ]
  },
  {
   "cell_type": "code",
   "execution_count": 4,
   "id": "d4236138",
   "metadata": {},
   "outputs": [
    {
     "data": {
      "text/plain": [
       "tuple"
      ]
     },
     "execution_count": 4,
     "metadata": {},
     "output_type": "execute_result"
    }
   ],
   "source": [
    "is_tuple = (1,2,3)\n",
    "is_tuple\n",
    "type(is_tuple)"
   ]
  },
  {
   "cell_type": "code",
   "execution_count": 5,
   "id": "8528feae",
   "metadata": {},
   "outputs": [
    {
     "data": {
      "text/plain": [
       "(1, 2, 3)"
      ]
     },
     "execution_count": 5,
     "metadata": {},
     "output_type": "execute_result"
    }
   ],
   "source": [
    "is_tuple"
   ]
  },
  {
   "cell_type": "code",
   "execution_count": 6,
   "id": "0721113f",
   "metadata": {},
   "outputs": [],
   "source": [
    "is_list = [1,2,3]"
   ]
  },
  {
   "cell_type": "code",
   "execution_count": 7,
   "id": "cce81910",
   "metadata": {},
   "outputs": [
    {
     "data": {
      "text/plain": [
       "[1, 2, 3]"
      ]
     },
     "execution_count": 7,
     "metadata": {},
     "output_type": "execute_result"
    }
   ],
   "source": [
    "is_list"
   ]
  },
  {
   "cell_type": "code",
   "execution_count": 8,
   "id": "cface7cd",
   "metadata": {},
   "outputs": [
    {
     "data": {
      "text/plain": [
       "[1, 2]"
      ]
     },
     "execution_count": 8,
     "metadata": {},
     "output_type": "execute_result"
    }
   ],
   "source": [
    "is_list[:2]"
   ]
  },
  {
   "cell_type": "code",
   "execution_count": 9,
   "id": "faf8536b",
   "metadata": {},
   "outputs": [],
   "source": [
    "dictionary = {\"Nico\":\"34866262\", \"Emi\":\"31950316\"}"
   ]
  },
  {
   "cell_type": "code",
   "execution_count": 10,
   "id": "07e2cb36",
   "metadata": {},
   "outputs": [
    {
     "data": {
      "text/plain": [
       "{'Nico': '34866262', 'Emi': '31950316'}"
      ]
     },
     "execution_count": 10,
     "metadata": {},
     "output_type": "execute_result"
    }
   ],
   "source": [
    "dictionary"
   ]
  },
  {
   "cell_type": "code",
   "execution_count": 11,
   "id": "90f7284c",
   "metadata": {},
   "outputs": [
    {
     "data": {
      "text/plain": [
       "'34866262'"
      ]
     },
     "execution_count": 11,
     "metadata": {},
     "output_type": "execute_result"
    }
   ],
   "source": [
    "dictionary['Nico']"
   ]
  },
  {
   "cell_type": "code",
   "execution_count": 12,
   "id": "34702657",
   "metadata": {},
   "outputs": [],
   "source": [
    "pares = {x for x in range(10) if x%2==0}\n",
    "impares = {x for x in range(10) if x%2==1}"
   ]
  },
  {
   "cell_type": "code",
   "execution_count": 13,
   "id": "897d2124",
   "metadata": {},
   "outputs": [
    {
     "data": {
      "text/plain": [
       "{0, 2, 4, 6, 8}"
      ]
     },
     "execution_count": 13,
     "metadata": {},
     "output_type": "execute_result"
    }
   ],
   "source": [
    "pares"
   ]
  },
  {
   "cell_type": "code",
   "execution_count": 14,
   "id": "77b9d85e",
   "metadata": {},
   "outputs": [
    {
     "data": {
      "text/plain": [
       "{1, 3, 5, 7, 9}"
      ]
     },
     "execution_count": 14,
     "metadata": {},
     "output_type": "execute_result"
    }
   ],
   "source": [
    "impares"
   ]
  },
  {
   "cell_type": "code",
   "execution_count": 15,
   "id": "3f97a429",
   "metadata": {},
   "outputs": [
    {
     "data": {
      "text/plain": [
       "{0, 1, 2, 3, 4, 5, 6, 7, 8, 9}"
      ]
     },
     "execution_count": 15,
     "metadata": {},
     "output_type": "execute_result"
    }
   ],
   "source": [
    "pares.union(impares)"
   ]
  },
  {
   "cell_type": "code",
   "execution_count": 16,
   "id": "3628bc79",
   "metadata": {},
   "outputs": [
    {
     "data": {
      "text/plain": [
       "set()"
      ]
     },
     "execution_count": 16,
     "metadata": {},
     "output_type": "execute_result"
    }
   ],
   "source": [
    "pares.intersection(impares)"
   ]
  },
  {
   "cell_type": "code",
   "execution_count": 17,
   "id": "eacad3fd",
   "metadata": {},
   "outputs": [],
   "source": [
    "file = open('newfile.txt', 'w')\n",
    "file.write('Testing\\n')\n",
    "file.write('More testing')\n",
    "file.close()"
   ]
  },
  {
   "cell_type": "code",
   "execution_count": 18,
   "id": "74ca1e49",
   "metadata": {},
   "outputs": [
    {
     "data": {
      "text/plain": [
       "'Testing\\nMore testing'"
      ]
     },
     "execution_count": 18,
     "metadata": {},
     "output_type": "execute_result"
    }
   ],
   "source": [
    "read_file = open('newfile.txt', 'r')\n",
    "out = read_file.read()\n",
    "out"
   ]
  },
  {
   "cell_type": "code",
   "execution_count": 19,
   "id": "7ef08960",
   "metadata": {},
   "outputs": [
    {
     "name": "stdout",
     "output_type": "stream",
     "text": [
      "Testing\n",
      "More testing\n"
     ]
    }
   ],
   "source": [
    "print(out)"
   ]
  },
  {
   "cell_type": "code",
   "execution_count": 20,
   "id": "4db17e89",
   "metadata": {},
   "outputs": [],
   "source": [
    "read_file.close()"
   ]
  },
  {
   "cell_type": "code",
   "execution_count": 21,
   "id": "7f428393",
   "metadata": {},
   "outputs": [
    {
     "data": {
      "text/plain": [
       "'C:\\\\Users\\\\Nico\\\\Python\\\\learning-python'"
      ]
     },
     "execution_count": 21,
     "metadata": {},
     "output_type": "execute_result"
    }
   ],
   "source": [
    "%pwd"
   ]
  },
  {
   "cell_type": "code",
   "execution_count": 22,
   "id": "d2a723fb",
   "metadata": {},
   "outputs": [
    {
     "name": "stdout",
     "output_type": "stream",
     "text": [
      "Testing\n",
      "More testing\n"
     ]
    }
   ],
   "source": [
    "file = open('C://Users/Nico/Python/learning-python/newfile.txt', 'r')\n",
    "print(file.read())\n",
    "file.close()"
   ]
  },
  {
   "cell_type": "code",
   "execution_count": 23,
   "id": "328f3436",
   "metadata": {},
   "outputs": [
    {
     "name": "stdout",
     "output_type": "stream",
     "text": [
      "Overwriting ciudades.txt\n"
     ]
    }
   ],
   "source": [
    "%%file ciudades.txt\n",
    "buenos aires: 7406520\n",
    "cordoba: 3835293\n",
    "rosario: 2454645\n",
    "san miguel: 1694327\n",
    "mendoza: 1338482\n",
    "neuquen: 1141301\n",
    "mar del plata: 935639\n",
    "la plata: 899523\n",
    "resistencia: 847321\n",
    "rio gallegos: 739215"
   ]
  },
  {
   "cell_type": "code",
   "execution_count": 24,
   "id": "0b735420",
   "metadata": {},
   "outputs": [
    {
     "name": "stdout",
     "output_type": "stream",
     "text": [
      "Buenos Aires   7,406,520\n",
      "Cordoba        3,835,293\n",
      "Rosario        2,454,645\n",
      "San Miguel     1,694,327\n",
      "Mendoza        1,338,482\n",
      "Neuquen        1,141,301\n",
      "Mar Del Plata  935,639\n",
      "La Plata       899,523\n",
      "Resistencia    847,321\n",
      "Rio Gallegos   739,215\n"
     ]
    }
   ],
   "source": [
    "file = open('ciudades.txt', 'r')\n",
    "for line in file:\n",
    "    ciudad, habitantes = line.split(':')\n",
    "    ciudad = ciudad.title()\n",
    "    habitantes = f'{int(habitantes):,}'\n",
    "    print(ciudad.ljust(15) + habitantes)\n",
    "file.close()"
   ]
  },
  {
   "cell_type": "code",
   "execution_count": 25,
   "id": "74ed2537",
   "metadata": {},
   "outputs": [
    {
     "name": "stdout",
     "output_type": "stream",
     "text": [
      "Primero viene el par 0 y luego el impar 1\n",
      "Primero viene el par 2 y luego el impar 3\n",
      "Primero viene el par 4 y luego el impar 5\n",
      "Primero viene el par 6 y luego el impar 7\n",
      "Primero viene el par 8 y luego el impar 9\n"
     ]
    }
   ],
   "source": [
    "for par, impar in zip(pares, impares):\n",
    "    print(f'Primero viene el par {par} y luego el impar {impar}')"
   ]
  },
  {
   "cell_type": "code",
   "execution_count": 46,
   "id": "4fc110f0",
   "metadata": {},
   "outputs": [
    {
     "data": {
      "text/plain": [
       "832040"
      ]
     },
     "execution_count": 46,
     "metadata": {},
     "output_type": "execute_result"
    }
   ],
   "source": [
    "calculated_fibonacci = []\n",
    "fibonacci = lambda n: n if n==1 or n==0 else fibonacci(n-1)+fibonacci(n-2)\n",
    "fibonacci(30)"
   ]
  },
  {
   "cell_type": "code",
   "execution_count": 48,
   "id": "309c6a5a",
   "metadata": {},
   "outputs": [
    {
     "data": {
      "text/plain": [
       "2"
      ]
     },
     "execution_count": 48,
     "metadata": {},
     "output_type": "execute_result"
    }
   ],
   "source": [
    "test_list = [1,2]\n",
    "len(test_list)"
   ]
  },
  {
   "cell_type": "code",
   "execution_count": 49,
   "id": "9d680c74",
   "metadata": {},
   "outputs": [
    {
     "data": {
      "text/plain": [
       "(4.0, 4.440892098500626e-14)"
      ]
     },
     "execution_count": 49,
     "metadata": {},
     "output_type": "execute_result"
    }
   ],
   "source": [
    "from scipy.integrate import quad\n",
    "quad(lambda x:x**3,0,2)"
   ]
  },
  {
   "cell_type": "code",
   "execution_count": 60,
   "id": "91867919",
   "metadata": {},
   "outputs": [
    {
     "data": {
      "text/plain": [
       "(6.0, 6.661338147750939e-14)"
      ]
     },
     "execution_count": 60,
     "metadata": {},
     "output_type": "execute_result"
    }
   ],
   "source": [
    "quad(lambda x:2,0,3)"
   ]
  },
  {
   "cell_type": "code",
   "execution_count": null,
   "id": "8247ad2f",
   "metadata": {},
   "outputs": [],
   "source": [
    "imp"
   ]
  }
 ],
 "metadata": {
  "kernelspec": {
   "display_name": "Python 3",
   "language": "python",
   "name": "python3"
  },
  "language_info": {
   "codemirror_mode": {
    "name": "ipython",
    "version": 3
   },
   "file_extension": ".py",
   "mimetype": "text/x-python",
   "name": "python",
   "nbconvert_exporter": "python",
   "pygments_lexer": "ipython3",
   "version": "3.8.8"
  }
 },
 "nbformat": 4,
 "nbformat_minor": 5
}
